{
  "nbformat": 4,
  "nbformat_minor": 0,
  "metadata": {
    "colab": {
      "provenance": [],
      "authorship_tag": "ABX9TyPVBAAJTr8DKCo76Aap2Wo0",
      "include_colab_link": true
    },
    "kernelspec": {
      "name": "python3",
      "display_name": "Python 3"
    },
    "language_info": {
      "name": "python"
    }
  },
  "cells": [
    {
      "cell_type": "markdown",
      "metadata": {
        "id": "view-in-github",
        "colab_type": "text"
      },
      "source": [
        "<a href=\"https://colab.research.google.com/github/carolsc/I2A2-Challenges/blob/main/Desafio_1_Similaridade_entre_textos.ipynb\" target=\"_parent\"><img src=\"https://colab.research.google.com/assets/colab-badge.svg\" alt=\"Open In Colab\"/></a>"
      ]
    },
    {
      "cell_type": "markdown",
      "source": [
        "## Medida de Similaridade entre textos através da função Containment"
      ],
      "metadata": {
        "id": "qsRl7jL3EPqC"
      }
    },
    {
      "cell_type": "markdown",
      "source": [
        "\n",
        "\n",
        "---\n",
        "\n",
        "\n",
        "A Função Containment em Python compará dois textos e analisa a similaridade dos mesmos com relação aos seu n-gramas de interseção.\n",
        "\n",
        "*N-grama*: É uma sequência de n elementos dentro de uma frase, sejam elas palavras, letras, símbolos, classificação gramatical, entre outros.\n",
        "\n",
        "Primeiramente temos que contar as ocorrência de n-gramas dos nossos textos. Para isso, iremos usar a função CountVectorizer para converter o conjunto de dados do texto em uma matriz de contagem. Após a criação dessa matriz, iremos analisá-la"
      ],
      "metadata": {
        "id": "8vGzMQrXEYAc"
      }
    },
    {
      "cell_type": "code",
      "execution_count": 1,
      "metadata": {
        "id": "nemcWL_DEMuX"
      },
      "outputs": [],
      "source": [
        "# Importação das bibliotecas\n",
        "import numpy as np\n",
        "import sklearn"
      ]
    },
    {
      "cell_type": "code",
      "source": [
        "#Importação dos textos\n",
        "arquivo1 = open (\"/content/Base Text - Matrix Representation I - v2.txt\", \"r\")\n",
        "texto1 = arquivo1.read()\n",
        "arquivo2 = open (\"/content/Base Text - Matrix Representation II - v2.txt\", \"r\")\n",
        "texto2 = arquivo2.read()\n"
      ],
      "metadata": {
        "id": "82ti7ipfIpbZ"
      },
      "execution_count": 31,
      "outputs": []
    },
    {
      "cell_type": "markdown",
      "source": [
        "## Unigrama\n",
        "\n",
        "A execução do exemplo imprime o vocabulário. Os vetores terão o número de palavras no vocabulário."
      ],
      "metadata": {
        "id": "RK1mLJpRGTEM"
      }
    },
    {
      "cell_type": "code",
      "source": [
        "from sklearn.feature_extraction.text import CountVectorizer\n",
        "\n",
        "#texto1 = \"Donec posuere nec magna eget vulputate.\"\n",
        "#texto2 = \"Aenean vulputate odio sit amet posuere. \"\n",
        "\n",
        "#Número de n_gramas - palavras\n",
        "n = 1\n",
        "\n",
        "#Instância contador de n-gramas\n",
        "counts = CountVectorizer(analyzer = 'word', ngram_range=(n,n))\n",
        "\n",
        "#Cria uma matriz de contagem de n-gramas para os dois textos\n",
        "n_grams = counts.fit_transform({texto1, texto2})\n",
        "\n",
        "#Cria um dicionário de n-gramas\n",
        "vocab2int = counts.fit([texto1, texto2]).vocabulary_\n",
        "\n",
        "n_grams_array = n_grams.toarray()\n",
        "\n",
        "#Imprime o dicionário de palavras com seu index\n",
        "print(\"Vetor de n-gramas: \\n\", n_grams_array)\n",
        "print()\n",
        "print(\"Dicionários de n-gramas (unigrama): \\n\", vocab2int)"
      ],
      "metadata": {
        "colab": {
          "base_uri": "https://localhost:8080/"
        },
        "id": "rA4YMTLcGdzG",
        "outputId": "bdc5d0f7-bd7a-4399-9ba2-0d02b23fb88c"
      },
      "execution_count": 32,
      "outputs": [
        {
          "output_type": "stream",
          "name": "stdout",
          "text": [
            "Vetor de n-gramas: \n",
            " [[2 1 4 ... 1 1 1]\n",
            " [0 0 0 ... 0 0 0]]\n",
            "\n",
            "Dicionários de n-gramas (unigrama): \n",
            " {'de': 354, 'motu': 893, 'circulari': 210, 'fluidorum': 591, 'hypothesis': 660, 'resistentiam': 1275, 'quæ': 1221, 'oritur': 1004, 'ex': 528, 'defectu': 364, 'lubricitatis': 816, 'partium': 1023, 'fluidi': 586, 'cæteris': 339, 'paribus': 1014, 'proportionalem': 1148, 'esse': 510, 'velocitati': 1575, 'qua': 1170, 'partes': 1018, 'separantur': 1343, 'ab': 4, 'invicem': 740, 'prop': 1134, 'li': 790, 'theor': 1493, 'xxxviii': 1641, 'si': 1361, 'cylindrus': 337, 'solidus': 1396, 'infinitè': 708, 'longus': 811, 'in': 694, 'fluido': 590, 'uniformi': 1543, 'infinito': 705, 'circa': 207, 'axem': 156, 'positione': 1104, 'datum': 351, 'cum': 325, 'revolvatur': 1298, 'hujus': 653, 'impulsu': 693, 'solo': 1400, 'agatur': 59, 'fluidum': 592, 'orbem': 998, 'perseveret': 1073, 'autem': 153, 'pars': 1015, 'unaquæque': 1540, 'uniformiter': 1545, 'suo': 1440, 'dico': 413, 'quod': 1215, 'tempora': 1477, 'periodica': 1054, 'sunt': 1439, 'ut': 1555, 'ipsarum': 742, 'distantiæ': 445, 'axe': 155, 'cylindri': 331, 'sit': 1384, 'afl': 58, 'actus': 38, 'circulis': 214, 'concentricis': 245, 'bgm': 163, 'chn': 205, 'dio': 434, 'ekp': 491, 'distinguatur': 447, 'orbes': 999, 'cylindricos': 333, 'innumeros': 719, 'concentricos': 246, 'solidos': 1394, 'ejusdem': 490, 'crassitudinis': 313, 'et': 518, 'quoniam': 1217, 'homogeneum': 648, 'est': 513, 'impressiones': 690, 'contiguorum': 285, 'orbium': 1002, 'se': 1330, 'mutuò': 918, 'factæ': 564, 'erunt': 507, 'per': 1042, 'hypothesin': 659, 'eorum': 498, 'translationes': 1516, 'superficies': 1447, 'contiguæ': 287, 'quibus': 1199, 'fiunt': 583, 'impressio': 689, 'aliquem': 75, 'major': 828, 'vel': 1568, 'minor': 870, 'parte': 1016, 'concava': 243, 'quàm': 1220, 'convexa': 295, 'prævalebit': 1163, 'fortior': 598, 'motum': 894, 'orbis': 1000, 'accelerabit': 20, 'retardabit': 1284, 'prout': 1159, 'eandem': 476, 'regionem': 1258, 'ipsius': 746, 'contrariam': 292, 'dirigitur': 436, 'proinde': 1133, 'unusquisque': 1551, 'debent': 359, 'utraque': 1558, 'sibi': 1362, 'æquari': 1648, 'fieri': 575, 'regiones': 1259, 'contrarias': 293, 'unde': 1541, 'cùm': 341, 'harum': 637, 'inversè': 738, 'hoc': 643, 'superficierum': 1446, 'differentiæ': 418, 'motuum': 897, 'angularium': 99, 'hæ': 661, 'applicatæ': 122, 'ad': 39, 'distantias': 442, 'sive': 1388, 'directè': 435, 'conjunctis': 261, 'rationibus': 1233, 'quadrata': 1174, 'distantiarum': 441, 'quare': 1191, 'infinitæ': 707, 'rectæ': 1249, 'sabcdeq': 1312, 'singulas': 1374, 'erigantur': 503, 'perpendicula': 1062, 'aa': 2, 'bb': 158, 'cc': 187, 'dd': 352, 'ee': 479, 'sa': 1311, 'sb': 1320, 'sc': 1321, 'sd': 1329, 'quadratis': 1175, 'reciprocè': 1244, 'proportionalia': 1150, 'terminos': 1487, 'perpendicularium': 1063, 'duci': 463, 'intelligatur': 723, 'linea': 801, 'curva': 327, 'hyperbolica': 656, 'summæ': 1438, 'motus': 896, 'toti': 1503, 'angulares': 95, 'respondentes': 1281, 'linearum': 802, 'id': 665, 'constituendum': 277, 'medium': 857, 'numerus': 957, 'augeatur': 148, 'latitudo': 779, 'minuatur': 872, 'infinitum': 706, 'areæ': 129, 'hyperbolicæ': 657, 'his': 642, 'summis': 1437, 'analogæ': 92, 'aaq': 3, 'bbq': 159, 'ccq': 188, 'ddq': 353, 'eeq': 480, 'motibus': 891, 'angularibus': 97, 'etiam': 520, 'areis': 128, 'igitur': 673, 'tempus': 1482, 'periodicum': 1057, 'particulæ': 1022, 'cujusvis': 324, 'area': 126, 'notas': 949, 'curvarum': 328, 'quadraturas': 1177, 'distantia': 439, 'corol': 302, 'hinc': 641, 'particularum': 1020, 'velocitates': 1574, 'absolutæ': 11, 'æquales': 1642, 'vase': 1566, 'cylindrico': 332, 'longitudinis': 808, 'contineantur': 289, 'cylindrum': 336, 'alium': 80, 'interiorem': 729, 'contineat': 290, 'uterque': 1556, 'communem': 235, 'sintque': 1382, 'revolutionum': 1295, 'ipsorum': 747, 'semidiametri': 1340, 'singularum': 1373, 'cylindrorum': 335, 'cylindro': 334, 'hunc': 655, 'modum': 884, 'motis': 892, 'addatur': 40, 'auferatur': 147, 'communis': 239, 'quilibet': 1209, 'angularis': 98, 'novo': 952, 'non': 942, 'mutatur': 913, 'attritus': 143, 'mutuus': 917, 'mutabuntur': 912, 'inter': 725, 'nam': 920, 'pendent': 1041, 'attritu': 142, 'quælibet': 1222, 'eo': 496, 'perseverabit': 1070, 'qui': 1197, 'utrinque': 1559, 'facto': 562, 'magis': 824, 'acceleratur': 26, 'retardatur': 1288, 'systemati': 1460, 'omnis': 984, 'exterioris': 548, 'habebitur': 628, 'quiescente': 1206, 'exteriore': 545, 'quiescentibus': 1207, 'interior': 727, 'communicabitur': 237, 'circularis': 212, 'paulatim': 1036, 'totum': 1506, 'propagabitur': 1136, 'nec': 922, 'prius': 1124, 'desinet': 397, 'augeri': 150, 'singulæ': 1378, 'corollario': 304, 'quarto': 1192, 'definitum': 371, 'acquirant': 32, 'conatur': 241, 'suum': 1456, 'adhuc': 44, 'latius': 780, 'propagare': 1139, 'impetu': 687, 'circumagetur': 217, 'exterior': 543, 'nisi': 937, 'violenter': 1616, 'detentus': 401, 'accelerabitur': 21, 'ejus': 489, 'quoad': 1213, 'usque': 1554, 'utriusque': 1561, 'æquentur': 1650, 'detineatur': 404, 'conabitur': 240, 'is': 750, 'retardare': 1285, 'vi': 1601, 'aliqua': 73, 'extrinsecùs': 550, 'impressa': 688, 'illum': 683, 'conservet': 269, 'efficiet': 482, 'idem': 666, 'cesset': 203, 'omnia': 980, 'aqua': 124, 'profunda': 1130, 'stagnante': 1421, 'experiri': 538, 'licet': 795, 'lii': 796, 'xxxix': 1640, 'sphæra': 1414, 'solida': 1392, 'centro': 191, 'sphæræ': 1418, 'fig': 576, 'cas': 181, 'acta': 33, 'finge': 581, 'illos': 681, 'velocitatem': 1573, 'debebunt': 358, 'sint': 1380, 'cubi': 318, 'cubis': 320, 'quadratum': 1176, 'volui': 1627, 'primò': 1121, 'demonstrare': 379, 'ducantur': 462, 'quam': 1181, 'plurimæ': 1097, 'datos': 350, 'contineant': 288, 'angulos': 101, 'æqualibus': 1644, 'differentiis': 417, 'superantes': 1444, 'rectis': 1247, 'revolutis': 1296, 'concipe': 250, 'annulos': 110, 'secari': 1331, 'annulus': 111, 'habebit': 627, 'quatuor': 1195, 'contiguos': 286, 'unum': 1549, 'alterum': 86, 'exteriorem': 546, 'duos': 470, 'laterales': 774, 'interioris': 731, 'potest': 1111, 'juxta': 770, 'legem': 784, 'casus': 184, 'primi': 1117, 'æqualiter': 1646, 'urgeri': 1553, 'patet': 1029, 'demonstratione': 380, 'propterea': 1158, 'annulorum': 109, 'series': 1348, 'globo': 616, 'rectà': 1248, 'pergens': 1050, 'movebitur': 900, 'pro': 1126, 'lege': 783, 'quatenus': 1194, 'impeditur': 686, 'latera': 773, 'at': 139, 'hac': 634, 'nullus': 956, 'neque': 929, 'adeò': 43, 'quo': 1212, 'minus': 873, 'fiat': 570, 'impediet': 684, 'annuli': 108, 'distant': 438, 'citiùs': 220, 'revolverentur': 1303, 'tardiùs': 1473, 'polos': 1100, 'æquatorem': 1649, 'tardiores': 1472, 'accelerarentur': 23, 'velociores': 1570, 'retardarentur': 1286, 'mutuo': 916, 'sic': 1363, 'vergerent': 1584, 'semper': 1342, 'æqualitatem': 1645, 'impedit': 685, 'hic': 639, 'secundum': 1336, 'lex': 789, 'illa': 676, 'obtinebit': 963, 'singulorum': 1377, 'globi': 614, 'secundo': 1335, 'dividatur': 451, 'jam': 767, 'sectionibus': 1333, 'transversis': 1517, 'particulas': 1021, 'innumeras': 718, 'constituentes': 278, 'substantiam': 1430, 'absolutè': 12, 'fluidam': 585, 'sectiones': 1332, 'spectant': 1410, 'sed': 1337, 'constitutionem': 280, 'solummodo': 1401, 'conducunt': 255, 'priùs': 1125, 'omnes': 978, 'quamminimi': 1183, 'asperitatem': 132, 'vim': 1615, 'mutui': 915, 'aut': 152, 'mutabunt': 911, 'manente': 843, 'causarum': 186, 'proportione': 1152, 'manebit': 841, 'effectuum': 481, 'proportio': 1147, 'periodicorum': 1056, 'temporum': 1481, 'cæterum': 340, 'abinde': 6, 'orta': 1005, 'vis': 1621, 'centrifuga': 190, 'eclipticam': 478, 'debebit': 357, 'causa': 185, 'adesse': 42, 'suis': 1434, 'retineantur': 1290, 'ne': 921, 'materia': 847, 'recedat': 1235, 'exteriora': 544, 'vorticis': 1635, 'migret': 864, 'indeque': 699, 'circulatione': 213, 'perpetua': 1064, 'revertatur': 1293, 'eadem': 474, 'applicata': 121, 'globus': 619, 'similari': 1367, 'morem': 890, 'iste': 751, 'cessabit': 198, 'singulis': 1376, 'partibus': 1019, 'accelerari': 24, 'interiores': 730, 'ob': 961, 'majorem': 829, 'suam': 1426, 'atterunt': 141, 'urgent': 1552, 'exteriores': 547, 'motumque': 895, 'ipsis': 745, 'ea': 473, 'actione': 34, 'perpetuò': 1066, 'communicant': 238, 'illi': 678, 'quantitatem': 1189, 'alios': 72, 'simul': 1370, 'transferunt': 1513, 'eaque': 477, 'servant': 1353, 'sui': 1433, 'planè': 1092, 'invariatam': 737, 'transfertur': 1512, 'circumferentiam': 218, 'infinitatem': 703, 'circumferentiæ': 219, 'absorbetur': 13, 'sphæricas': 1416, 'duas': 461, 'quasvis': 1193, 'vortici': 1633, 'concentricas': 244, 'nunquam': 960, 'eò': 551, 'omnem': 977, 'interiore': 728, 'acceptum': 29, 'transfert': 1511, 'conservationem': 268, 'constanter': 274, 'eodem': 497, 'movendi': 902, 'statu': 1423, 'requiritur': 1273, 'principium': 1123, 'aliquod': 78, 'activum': 37, 'accipiat': 30, 'imprimit': 692, 'materiam': 848, 'absque': 14, 'tali': 1463, 'principio': 1122, 'necesse': 923, 'propagantes': 1138, 'novum': 953, 'recipientes': 1242, 'tardescant': 1469, 'agi': 61, 'desinant': 395, 'alter': 82, 'huic': 652, 'certam': 194, 'distantiam': 440, 'innataret': 715, 'interea': 726, 'inclinatione': 695, 'revolveretur': 1304, 'raperetur': 1227, 'vorticem': 1631, 'vortex': 1629, 'novus': 954, 'exiguus': 535, 'una': 1539, 'centrum': 192, 'alterius': 84, 'latiùs': 781, 'serperet': 1350, 'propagaretur': 1140, 'ratione': 1230, 'duo': 467, 'intermedium': 733, 'punctum': 1167, 'seque': 1347, 'circularem': 209, 'fugerent': 606, 'aliquam': 74, 'cohibiti': 233, 'postea': 1109, 'vires': 1618, 'impressæ': 691, 'perseverant': 1072, 'cessarent': 201, 'legibus': 786, 'mechanicis': 854, 'permitterentur': 1061, 'languesceret': 772, 'globorum': 617, 'rationem': 1231, 'assignatam': 134, 'vortices': 1632, 'tandem': 1466, 'conquiescerent': 262, 'plures': 1096, 'datis': 349, 'locis': 807, 'circum': 216, 'axes': 157, 'certis': 195, 'velocitatibus': 1576, 'fierent': 574, 'totidem': 1504, 'pergentes': 1051, 'singuli': 1375, 'unus': 1550, 'aliquis': 77, 'propagat': 1141, 'propagabunt': 1137, 'suos': 1441, 'infiniti': 704, 'agitetur': 63, 'omnium': 985, 'actionibus': 36, 'resultat': 1283, 'definientur': 369, 'limitibus': 800, 'excurrent': 532, 'globiq': 615, 'actiones': 35, 'vorticum': 1636, 'movebuntur': 901, 'uti': 1557, 'lemmate': 787, 'superiore': 1448, 'expositum': 541, 'neq': 927, 'quamvis': 1185, 'positionem': 1105, 'servabunt': 1352, 'retenti': 1289, 'cessantibus': 200, 'viribus': 1620, 'illis': 679, 'globos': 618, 'conservant': 267, 'hosce': 651, 'tertio': 1491, 'requiescet': 1272, 'similare': 1366, 'claudatur': 223, 'sphærico': 1417, 'ac': 17, 'consistentis': 272, 'rotatione': 1309, 'vas': 1565, 'partem': 1017, 'eundem': 523, 'revolvantur': 1297, 'sintq': 1381, 'semidiametrorum': 1341, 'perseverabunt': 1071, 'sine': 1372, 'acceleratione': 25, 'retardatione': 1287, 'alia': 66, 'nulla': 955, 'constitutio': 279, 'permanens': 1059, 'inclusum': 696, 'servent': 1354, 'præterea': 1162, 'communi': 236, 'angulari': 96, 'quemvis': 1196, 'fit': 582, 'uno': 1547, 'latere': 775, 'tardetur': 1471, 'acceleretur': 27, 'altero': 85, 'quiescat': 1204, 'detur': 405, 'dabitur': 346, 'planum': 1091, 'transire': 1514, 'contrario': 294, 'revolvi': 1305, 'pone': 1101, 'revolutionis': 1294, 'summam': 1436, 'temporis': 1480, 'vasis': 1567, 'respectu': 1279, 'plani': 1090, 'suarum': 1427, '10': 0, 'diversum': 450, 'data': 348, 'velocitate': 1572, 'quacunq': 1171, 'moveatur': 899, 'manebunt': 842, 'iidem': 675, 'isti': 752, 'dabuntur': 347, '11': 1, 'quiescant': 1203, 'detentum': 400, 'desinent': 396, 'æqualia': 1643, 'temporibus': 1479, 'periodicis': 1055, 'quovis': 1219, 'constanti': 275, 'deveniet': 408, 'statum': 1424, 'corollariis': 303, 'definiti': 370, 'alio': 70, 'unquam': 1548, 'quocunq': 1214, 'deinde': 374, 'verò': 1589, 'revolvebantur': 1299, 'permittatur': 1060, 'systema': 1458, 'agent': 60, 'mediante': 855, 'cessabunt': 199, 'æquantur': 1647, 'instar': 722, 'corporis': 309, 'unius': 1546, 'solidi': 1393, 'scholium': 1324, 'omnibus': 981, 'suppono': 1452, 'densitatem': 382, 'fluiditatem': 589, 'constare': 276, 'tale': 1461, 'intervallo': 734, 'similes': 1368, 'ubivis': 1535, 'constitutus': 282, 'possit': 1108, 'quidem': 1202, 'recedere': 1238, 'premit': 1115, 'ulteriorem': 1536, 'pressione': 1116, 'separatio': 1344, 'difficilior': 419, 'consequens': 265, 'diminuitur': 427, 'materiæ': 849, 'fluiditas': 588, 'rursus': 1310, 'alicubi': 69, 'crassiores': 312, 'seu': 1359, 'majores': 830, 'ibi': 664, 'erit': 504, 'pauciores': 1035, 'separentur': 1345, 'hujusmodi': 654, 'casibus': 182, 'deficientem': 368, 'lubricitate': 815, 'lentore': 788, 'aliave': 68, 'conditione': 253, 'restitui': 1282, 'ubi': 1534, 'minùs': 875, 'fluida': 584, 'cohærebit': 234, 'segnior': 1339, 'adeoq': 41, 'recipiet': 1243, 'longiùs': 810, 'propagabit': 1135, 'superiùs': 1449, 'assignata': 133, 'figura': 577, 'sphærica': 1415, 'lineis': 803, 'circularibus': 211, 'conformibus': 256, 'eidem': 486, 'figuræ': 579, 'mediocrium': 856, 'quamproximè': 1184, 'latiora': 776, 'spatia': 1405, 'angustiora': 102, 'tamen': 1465, 'petent': 1077, 'arcus': 125, 'enim': 495, 'describent': 390, 'curvos': 330, 'conatus': 242, 'recedendi': 1236, 'diminuetur': 425, 'decrementum': 363, 'curvaturæ': 329, 'augebitur': 149, 'incrementum': 697, 'velocitatis': 1577, 'pergendo': 1049, 'spatiis': 1406, 'angustioribus': 104, 'recedent': 1237, 'paulò': 1037, 'isto': 754, 'recessu': 1241, 'tardescent': 1470, 'accedendo': 18, 'latioribus': 778, 'accelerabuntur': 22, 'vices': 1603, 'perpetuum': 1065, 'hæc': 662, 'ita': 755, 'habebunt': 629, 'rigido': 1308, 'innotescit': 717, 'propositionis': 1154, 'corollarium': 305, 'sextum': 1360, 'proprietates': 1156, 'propositione': 1153, 'investigare': 739, 'sum': 1435, 'pertentarem': 1074, 'siqua': 1383, 'phænomena': 1082, 'cœlestia': 344, 'explicari': 540, 'possint': 1107, 'phænomenon': 1084, 'planetarum': 1086, 'jovem': 768, 'revolventium': 1302, 'sesquialtera': 1356, 'jovis': 769, 'regula': 1263, 'obtinet': 966, 'planetis': 1088, 'solem': 1390, 'revolvuntur': 1307, 'obtinent': 964, 'regulæ': 1264, 'utrisque': 1560, 'accuratissimè': 31, 'observationes': 962, 'astronomicæ': 138, 'hactenus': 635, 'prodidêre': 1128, 'ideoq': 668, 'planetæ': 1089, 'vorticibus': 1634, 'revolventibus': 1301, 'deferantur': 365, 'hi': 638, 'verum': 1588, 'prodierunt': 1129, 'duplicata': 471, 'ratio': 1229, 'diminui': 426, 'sesquialteram': 1357, 'reduci': 1257, 'fluidior': 587, 'longius': 809, 'distat': 446, 'resistentia': 1274, 'aucta': 145, 'majori': 831, 'velocitas': 1571, 'augetur': 151, 'quorum': 1218, 'neutrum': 932, 'rationi': 1232, 'consentaneum': 263, 'videtur': 1614, 'fluidæ': 593, 'graves': 624, 'verisimile': 1585, 'etiamsi': 521, 'demonstrationum': 381, 'gratia': 623, 'talem': 1462, 'initio': 713, 'sectionis': 1334, 'proposuerim': 1155, 'proportionalis': 1151, 'esset': 512, 'minori': 871, 'concesso': 248, 'aliquorum': 79, 'opinio': 988, 'celeriùs': 189, 'moveantur': 898, 'prope': 1142, 'dein': 373, 'certum': 196, 'limitem': 799, 'tum': 1526, 'denuò': 387, 'certè': 197, 'quævis': 1223, 'certa': 193, 'determinata': 402, 'obtinere': 965, 'viderint': 1611, 'itaq': 756, 'philosophi': 1080, 'pacto': 1010, 'illud': 682, 'rationis': 1234, 'sesquialteræ': 1358, 'liii': 797, 'xl': 1639, 'corpora': 306, 'vortice': 1630, 'delata': 375, 'redeunt': 1253, 'densitatis': 383, 'cursus': 326, 'determinationem': 403, 'moventur': 903, 'exigua': 534, 'cujus': 323, 'puncta': 1166, 'physica': 1081, 'situm': 1387, 'congelari': 258, 'supponatur': 1451, 'insitam': 721, 'figuram': 578, 'contra': 291, 'congelata': 259, 'reliquo': 1268, 'resolvatur': 1278, 'negligatur': 924, 'tanquam': 1467, 'totius': 1505, 'progressivum': 1131, 'nil': 936, 'spectans': 1409, 'aliarum': 67, 'distantium': 444, 'solidum': 1395, 'resolutum': 1277, 'consimilis': 271, 'ergo': 502, 'proximè': 1161, 'ambiente': 88, 'relative': 1265, 'quiescens': 1205, 'sin': 1371, 'densius': 384, 'illam': 677, 'orbita': 1001, 'sua': 1425, 'æquilibrio': 1651, 'constitutum': 281, 'retinebatur': 1291, 'superans': 1443, 'recedet': 1239, 'revolvendo': 1300, 'describet': 391, 'spiralem': 1419, 'amplius': 91, 'rediens': 1255, 'argumento': 130, 'rarius': 1228, 'accedet': 19, 'redibit': 1254, 'casu': 183, 'ostensum': 1007, 'distantibus': 443, 'revolvitur': 1306, 'redit': 1256, 'relativè': 1266, 'quiescit': 1208, 'cui': 322, 'innatat': 716, 'uniformis': 1544, 'corpus': 310, 'quamlibet': 1182, 'liquet': 806, 'planetas': 1087, 'corporeis': 307, 'deferri': 367, 'copernicæam': 297, 'delati': 376, 'ellipsibus': 494, 'umbilicum': 1538, 'habentibus': 630, 'sole': 1389, 'radiis': 1225, 'ductis': 464, 'areas': 127, 'describunt': 392, 'proportionales': 1149, 'nequeunt': 930, 'designent': 394, 'be': 160, 'cf': 204, 'tres': 1518, 'descriptos': 393, 'extimus': 549, 'circulus': 215, 'soli': 1391, 'concentricus': 247, 'interiorum': 732, 'duorum': 469, 'aphelia': 117, 'perihelia': 1052, 'orbe': 997, 'radio': 1226, 'ducto': 465, 'describendo': 389, 'aphelio': 118, 'velociùs': 1578, 'perihelio': 1053, 'leges': 785, 'astronomicas': 136, 'mechanicas': 853, 'spatio': 1407, 'angustiore': 103, 'moveri': 904, 'debeat': 356, 'latiore': 777, 'repugnant': 1271, 'signi': 1365, 'virginis': 1619, 'aphelium': 119, 'martis': 846, 'versatur': 1587, 'veneris': 1580, 'eorundem': 499, 'piscium': 1085, 'tria': 1519, 'circiter': 208, 'debet': 360, 'velocior': 1569, 'trium': 1521, 'angustius': 105, 'spatium': 1408, 'quantitas': 1188, 'tempore': 1478, 'transit': 1515, 'terra': 1488, 'cœlesti': 343, 'deferretur': 366, 'foret': 595, 'solis': 1397, 'diurnus': 449, 'apparens': 120, 'minutorum': 874, 'primorum': 1119, 'septuaginta': 1346, 'quadraginta': 1172, 'octo': 969, 'experientia': 537, 'teste': 1492, 'phænomenis': 1083, 'astronomicis': 137, 'omninò': 983, 'pugnat': 1165, 'tam': 1464, 'explicandos': 539, 'perturbandos': 1075, 'cœlestes': 342, 'conducit': 254, 'quomodo': 1216, 'liberis': 793, 'peraguntur': 1043, 'intelligi': 724, 'libro': 794, 'primo': 1118, 'mundi': 908, 'systemate': 1459, 'pleniùs': 1094, 'docebitur': 455, 'videns': 1610, 'turbas': 1531, 'ascendit': 131, 'montem': 888, 'sedisset': 1338, 'cesserunt': 202, 'eum': 522, 'discipuli': 437, 'eius': 488, 'aperiens': 115, 'os': 1006, 'docebat': 454, 'eos': 500, 'dicens': 411, 'beati': 161, 'pauperes': 1038, 'spiritu': 1420, 'regnum': 1262, 'caelorum': 172, 'lugent': 821, 'ipsi': 744, 'consolabuntur': 273, 'mites': 878, 'possidebunt': 1106, 'terram': 1490, 'esuriunt': 517, 'sitiunt': 1386, 'iustitiam': 765, 'saturabuntur': 1319, 'misericordes': 876, 'quia': 1198, 'misericordiam': 877, 'consequentur': 266, 'mundo': 909, 'corde': 301, 'deum': 406, 'videbunt': 1608, 'pacifici': 1009, 'filii': 580, 'dei': 372, 'vocabuntur': 1624, 'persecutionem': 1068, 'patiuntur': 1031, 'propter': 1157, 'estis': 514, 'maledixerint': 832, 'vobis': 1622, 'persecuti': 1067, 'vos': 1637, 'fuerint': 602, 'dixerint': 452, 'omne': 976, 'malum': 836, 'adversum': 52, 'mentientes': 859, 'me': 851, 'gaudete': 610, 'exsultate': 542, 'merces': 861, 'vestra': 1594, 'copiosa': 298, 'caelis': 170, 'prophetas': 1144, 'fuerunt': 605, 'ante': 112, 'sal': 1313, 'terrae': 1489, 'evanuerit': 527, 'salietur': 1314, 'nihilum': 935, 'valet': 1564, 'ultra': 1537, 'mittatur': 880, 'foras': 594, 'conculcetur': 251, 'hominibus': 646, 'lux': 823, 'civitas': 222, 'abscondi': 9, 'supra': 1453, 'posita': 1103, 'accendunt': 28, 'lucernam': 819, 'ponunt': 1102, 'eam': 475, 'sub': 1429, 'modio': 883, 'super': 1442, 'candelabrum': 174, 'luceat': 817, 'domo': 459, 'coram': 300, 'videant': 1605, 'bona': 165, 'opera': 986, 'glorificent': 622, 'patrem': 1032, 'vestrum': 1600, 'nolite': 940, 'putare': 1169, 'veni': 1582, 'solvere': 1402, 'adimplere': 47, 'amen': 90, 'quippe': 1210, 'donec': 460, 'transeat': 1509, 'caelum': 173, 'iota': 741, 'apex': 116, 'praeteribit': 1114, 'fiant': 569, 'solverit': 1403, 'mandatis': 838, 'istis': 753, 'minimis': 867, 'docuerit': 456, 'homines': 645, 'minimus': 868, 'vocabitur': 1623, 'regno': 1261, 'fecerit': 567, 'magnus': 826, 'abundaverit': 16, 'iustitia': 764, 'plus': 1099, 'scribarum': 1328, 'pharisaeorum': 1079, 'intrabitis': 736, 'audistis': 146, 'dictum': 414, 'antiquis': 114, 'occides': 968, 'occiderit': 967, 'reus': 1292, 'iudicio': 760, 'ego': 484, 'irascitur': 748, 'fratri': 601, 'dixerit': 453, 'racha': 1224, 'concilio': 249, 'fatue': 566, 'gehennae': 611, 'ignis': 674, 'offeres': 975, 'munus': 910, 'tuum': 1532, 'altare': 81, 'recordatus': 1246, 'fueris': 603, 'frater': 599, 'tuus': 1533, 'habet': 631, 'aliquid': 76, 'te': 1474, 'relinque': 1267, 'vade': 1563, 'reconciliare': 1245, 'tuo': 1529, 'tunc': 1527, 'veniens': 1583, 'offer': 974, 'esto': 515, 'consentiens': 264, 'adversario': 50, 'cito': 221, 'dum': 466, 'es': 508, 'via': 1602, 'forte': 597, 'tradat': 1507, 'adversarius': 51, 'iudici': 759, 'iudex': 758, 'ministro': 869, 'carcerem': 178, 'mittaris': 879, 'tibi': 1499, 'exies': 533, 'inde': 698, 'reddas': 1250, 'novissimum': 951, 'quadrantem': 1173, 'moechaberis': 885, 'viderit': 1612, 'mulierem': 905, 'concupiscendum': 252, 'iam': 663, 'moechatus': 887, 'oculus': 972, 'dexter': 409, 'scandalizat': 1323, 'erue': 506, 'proice': 1132, 'abs': 7, 'expedit': 536, 'pereat': 1045, 'membrorum': 858, 'tuorum': 1530, 'gehennam': 612, 'dextera': 410, 'manus': 845, 'tua': 1523, 'abscide': 8, 'abeat': 5, 'quicumque': 1200, 'dimiserit': 428, 'uxorem': 1562, 'det': 399, 'libellum': 791, 'repudii': 1270, 'excepta': 530, 'fornicationis': 596, 'facit': 559, 'moechari': 886, 'dimissam': 430, 'duxerit': 472, 'adulterat': 48, 'iterum': 757, 'periurabis': 1058, 'reddes': 1251, 'domino': 458, 'iuramenta': 761, 'iurare': 762, 'omnino': 982, 'thronus': 1498, 'scabellum': 1322, 'pedum': 1040, 'hierosolymam': 640, 'magni': 825, 'regis': 1260, 'caput': 177, 'iuraveris': 763, 'potes': 1110, 'capillum': 176, 'album': 65, 'facere': 552, 'nigrum': 933, 'sermo': 1349, 'vester': 1590, 'abundantius': 15, 'malo': 834, 'oculum': 971, 'oculo': 970, 'dentem': 386, 'dente': 385, 'resistere': 1276, 'quis': 1211, 'percusserit': 1044, 'maxilla': 850, 'praebe': 1113, 'alteram': 83, 'ei': 485, 'vult': 1638, 'tecum': 1475, 'contendere': 284, 'tunicam': 1528, 'tuam': 1524, 'tollere': 1502, 'remitte': 1269, 'pallium': 1011, 'angariaverit': 93, 'mille': 866, 'passus': 1027, 'illo': 680, 'petit': 1078, 'da': 345, 'volenti': 1626, 'mutuari': 914, 'avertaris': 154, 'diliges': 421, 'proximum': 1160, 'odio': 973, 'habebis': 626, 'inimicum': 711, 'diligite': 423, 'inimicos': 710, 'vestros': 1599, 'orate': 995, 'persequentibus': 1069, 'sitis': 1385, 'patris': 1034, 'vestri': 1597, 'oriri': 1003, 'malos': 835, 'bonos': 166, 'pluit': 1095, 'iustos': 766, 'iniustos': 714, 'dilexeritis': 420, 'diligunt': 424, 'mercedem': 860, 'habetis': 632, 'nonne': 943, 'publicani': 1164, 'faciunt': 561, 'salutaveritis': 1316, 'fratres': 600, 'tantum': 1468, 'quid': 1201, 'facitis': 560, 'ethnici': 519, 'estote': 516, 'perfecti': 1046, 'sicut': 1364, 'pater': 1028, 'caelestis': 168, 'perfectus': 1048, 'attendite': 140, 'vestram': 1596, 'faciatis': 554, 'deamini': 355, 'eis': 487, 'alioquin': 71, 'apud': 123, 'facies': 558, 'eleemosynam': 493, 'noli': 939, 'tuba': 1525, 'canere': 175, 'hypocritae': 658, 'synagogis': 1457, 'vicis': 1604, 'honorificentur': 649, 'receperunt': 1240, 'faciente': 557, 'nesciat': 931, 'sinistra': 1379, 'faciat': 553, 'eleemosyna': 492, 'abscondito': 10, 'videt': 1613, 'reddet': 1252, 'oratis': 996, 'eritis': 505, 'amant': 87, 'angulis': 100, 'platearum': 1093, 'stantes': 1422, 'orare': 994, 'videantur': 1606, 'tu': 1522, 'orabis': 991, 'intra': 735, 'cubiculum': 319, 'clauso': 224, 'ostio': 1008, 'ora': 990, 'orantes': 993, 'multum': 907, 'loqui': 814, 'putant': 1168, 'multiloquio': 906, 'exaudiantur': 529, 'assimilari': 135, 'scit': 1327, 'opus': 989, 'antequam': 113, 'petatis': 1076, 'orabitis': 992, 'noster': 945, 'sanctificetur': 1317, 'nomen': 941, 'adveniat': 49, 'voluntas': 1628, 'caelo': 171, 'panem': 1012, 'nostrum': 948, 'supersubstantialem': 1450, 'nobis': 938, 'hodie': 644, 'dimitte': 431, 'debita': 361, 'nostra': 946, 'nos': 944, 'dimittimus': 433, 'debitoribus': 362, 'nostris': 947, 'inducas': 702, 'tentationem': 1486, 'libera': 792, 'dimiseritis': 429, 'peccata': 1039, 'dimittet': 432, 'ieiunatis': 672, 'tristes': 1520, 'demoliuntur': 378, 'suas': 1428, 'pareant': 1013, 'ieiunantes': 670, 'ieiunas': 671, 'unge': 1542, 'faciem': 556, 'lava': 782, 'videaris': 1607, 'ieiunans': 669, 'patri': 1033, 'thesaurizare': 1494, 'thesauros': 1496, 'aerugo': 55, 'tinea': 1500, 'demolitur': 377, 'fures': 608, 'effodiunt': 483, 'furantur': 607, 'thesaurizate': 1495, 'thesaurus': 1497, 'cor': 299, 'lucerna': 818, 'fuerit': 604, 'simplex': 1369, 'lucidum': 820, 'nequam': 928, 'tenebrosum': 1485, 'lumen': 822, 'tene': 1483, 'brae': 167, 'tenebrae': 1484, 'quantae': 1187, 'nemo': 925, 'duobus': 468, 'dominis': 457, 'servire': 1355, 'diliget': 422, 'sustinebit': 1454, 'contemnet': 283, 'potestis': 1112, 'deo': 388, 'mammonae': 837, 'ideo': 667, 'solliciti': 1398, 'animae': 107, 'vestrae': 1595, 'manducetis': 840, 'corpori': 308, 'vestro': 1598, 'induamini': 701, 'anima': 106, 'esca': 509, 'vestimentum': 1592, 'respicite': 1280, 'volatilia': 1625, 'caeli': 169, 'serunt': 1351, 'metunt': 862, 'congregant': 260, 'horrea': 650, 'pascit': 1026, 'pluris': 1098, 'cogitans': 227, 'adicere': 45, 'aetatem': 57, 'cubitum': 321, 'vestimento': 1591, 'considerate': 270, 'lilia': 798, 'agri': 64, 'crescunt': 317, 'laborant': 771, 'nent': 926, 'salomon': 1315, 'omni': 979, 'gloria': 620, 'coopertus': 296, 'fenum': 568, 'cras': 311, 'clibanum': 225, 'mittitur': 881, 'deus': 407, 'vestit': 1593, 'quanto': 1190, 'modicae': 882, 'fidei': 571, 'dicentes': 412, 'manducabimus': 839, 'bibemus': 164, 'operiemur': 987, 'haec': 636, 'gentes': 613, 'inquirunt': 720, 'indigetis': 700, 'quaerite': 1180, 'primum': 1120, 'adicientur': 46, 'crastinum': 314, 'crastinus': 315, 'dies': 416, 'sollicitus': 1399, 'ipse': 743, 'sufficit': 1432, 'diei': 415, 'malitia': 833, 'linguis': 805, 'hominum': 647, 'loquar': 812, 'angelorum': 94, 'caritatem': 180, 'au': 144, 'tem': 1476, 'habeam': 625, 'factus': 563, 'velut': 1579, 'aes': 56, 'sonans': 1404, 'cymbalum': 338, 'tinniens': 1501, 'habuero': 633, 'prophetiam': 1146, 'noverim': 950, 'mysteria': 919, 'scientiam': 1326, 'fidem': 572, 'montes': 889, 'transferam': 1510, 'nihil': 934, 'distribuero': 448, 'cibos': 206, 'facultates': 565, 'meas': 852, 'tradidero': 1508, 'meum': 863, 'glorier': 621, 'mihi': 865, 'prodest': 1127, 'caritas': 179, 'patiens': 1030, 'benigna': 162, 'aemulatur': 53, 'agit': 62, 'superbe': 1445, 'inflatur': 709, 'ambitiosa': 89, 'quaerit': 1179, 'quae': 1178, 'irritatur': 749, 'cogitat': 228, 'gaudet': 609, 'iniquitatem': 712, 'congaudet': 257, 'veritati': 1586, 'suffert': 1431, 'credit': 316, 'sperat': 1412, 'sustinet': 1455, 'numquam': 958, 'excidit': 531, 'prophetiae': 1145, 'evacuabuntur': 525, 'linguae': 804, 'scientia': 1325, 'destruetur': 398, 'cognoscimus': 231, 'prophetamus': 1143, 'venerit': 1581, 'perfectum': 1047, 'evacuabitur': 524, 'essem': 511, 'parvulus': 1025, 'loquebar': 813, 'sapiebam': 1318, 'cogitabam': 226, 'quando': 1186, 'vir': 1617, 'evacuavi': 526, 'erant': 501, 'parvuli': 1024, 'videmus': 1609, 'nunc': 959, 'speculum': 1411, 'aenigmate': 54, 'facie': 555, 'cognosco': 232, 'cognoscam': 230, 'cognitus': 229, 'manet': 844, 'fides': 573, 'spes': 1413, 'maior': 827}\n"
          ]
        }
      ]
    },
    {
      "cell_type": "markdown",
      "source": [
        "Cada número do vetor representa uma palavra. A linha superior está os n-gramas do texto 1 e na linha inferior do texto 2. Podemos analisar se os texto possuem n_gramas em comum através de suas colunas."
      ],
      "metadata": {
        "id": "3dTnrSlXK1ys"
      }
    },
    {
      "cell_type": "markdown",
      "source": [
        "## Valores de containment\n",
        "\n",
        "O Containment é uma medida de similaridade entre textos. Bsicamente ele realiza a normalização da interseção da contagem de n-gramas entre os textos.\n",
        "\n",
        "Cálculo de Containment:\n",
        "\n",
        "1. calcular a interseção n-grama entre o texto 1 e o texto 2.\n",
        "2. Adiocioanr o número de termos comuns.\n",
        "3. Normalizar o valor na etapa 2 pelo número de n-gramas no texto1 (ou seja, dividimos o valor pelo total de n-gramas do texto1 (subíndice A))\n",
        "\n",
        "Equação do Containment:\n",
        "\n",
        " ∑ count (ngramA) ⋂ ∑ count(ngramB) / ∑count (ngramA)\n",
        "\n",
        "\n"
      ],
      "metadata": {
        "id": "tQpt41TULkuN"
      }
    },
    {
      "cell_type": "code",
      "source": [
        "n_grams"
      ],
      "metadata": {
        "colab": {
          "base_uri": "https://localhost:8080/"
        },
        "id": "VrcrC3gCNwRB",
        "outputId": "1f18fa56-a6c4-42a7-932e-c241e7a6f9a8"
      },
      "execution_count": 33,
      "outputs": [
        {
          "output_type": "execute_result",
          "data": {
            "text/plain": [
              "<2x1652 sparse matrix of type '<class 'numpy.int64'>'\n",
              "\twith 1737 stored elements in Compressed Sparse Row format>"
            ]
          },
          "metadata": {},
          "execution_count": 33
        }
      ]
    },
    {
      "cell_type": "code",
      "source": [
        "arrays = n_grams.toarray()\n",
        "arrays"
      ],
      "metadata": {
        "colab": {
          "base_uri": "https://localhost:8080/"
        },
        "id": "OoNKZYl4OVHj",
        "outputId": "9b1e0929-93c7-41cb-95ee-4b94914b7b39"
      },
      "execution_count": 34,
      "outputs": [
        {
          "output_type": "execute_result",
          "data": {
            "text/plain": [
              "array([[2, 1, 4, ..., 1, 1, 1],\n",
              "       [0, 0, 0, ..., 0, 0, 0]])"
            ]
          },
          "metadata": {},
          "execution_count": 34
        }
      ]
    },
    {
      "cell_type": "code",
      "source": [
        "#Cálculo da interseção\n",
        "#Pega o mínimo valor entre os dois arrays - 0 nçao tem interseção e 1 tem interseção\n",
        "intersection_list = np.amin(arrays, axis = 0)\n",
        "intersection_list"
      ],
      "metadata": {
        "colab": {
          "base_uri": "https://localhost:8080/"
        },
        "id": "hakCWuNhPWDm",
        "outputId": "df42d6db-b2f0-4563-c25d-972de1d7d1dd"
      },
      "execution_count": 35,
      "outputs": [
        {
          "output_type": "execute_result",
          "data": {
            "text/plain": [
              "array([0, 0, 0, ..., 0, 0, 0])"
            ]
          },
          "metadata": {},
          "execution_count": 35
        }
      ]
    },
    {
      "cell_type": "code",
      "source": [
        "#Quantidade de palavras similares entre os dois textos\n",
        "intersection_count = np.sum(intersection_list)\n",
        "intersection_count"
      ],
      "metadata": {
        "colab": {
          "base_uri": "https://localhost:8080/"
        },
        "id": "Ri5OaS-oP9dA",
        "outputId": "9c20b924-d4bd-4d0b-8b50-548df0c4dd78"
      },
      "execution_count": 36,
      "outputs": [
        {
          "output_type": "execute_result",
          "data": {
            "text/plain": [
              "335"
            ]
          },
          "metadata": {},
          "execution_count": 36
        }
      ]
    },
    {
      "cell_type": "code",
      "source": [
        "#Para Normalização\n",
        "index_A = 0\n",
        "A_count = np.sum(arrays[index_A])\n",
        "A_count"
      ],
      "metadata": {
        "colab": {
          "base_uri": "https://localhost:8080/"
        },
        "id": "iqmu7ASCQLBd",
        "outputId": "8f9ab2a3-5456-4730-877a-5c7b57946d6c"
      },
      "execution_count": 37,
      "outputs": [
        {
          "output_type": "execute_result",
          "data": {
            "text/plain": [
              "3057"
            ]
          },
          "metadata": {},
          "execution_count": 37
        }
      ]
    },
    {
      "cell_type": "code",
      "source": [
        "#Grau de similaridade entre os dois textos em porcentagem\n",
        "(intersection_count/A_count)*100"
      ],
      "metadata": {
        "colab": {
          "base_uri": "https://localhost:8080/"
        },
        "id": "AasVEGIPQoKa",
        "outputId": "fad36d7a-a138-4744-8db9-09eabea8ea8e"
      },
      "execution_count": 38,
      "outputs": [
        {
          "output_type": "execute_result",
          "data": {
            "text/plain": [
              "10.958456002616945"
            ]
          },
          "metadata": {},
          "execution_count": 38
        }
      ]
    }
  ]
}